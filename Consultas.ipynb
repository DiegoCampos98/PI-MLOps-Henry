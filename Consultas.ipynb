{
  "cells": [
    {
      "cell_type": "markdown",
      "metadata": {
        "id": "N9SnjZr2N8pe"
      },
      "source": [
        "# **Desarrollo API**\n",
        "\n",
        "---\n",
        "\n",
        "\n",
        "### Crearemos 6 funciones para las consultas (Para este Proceso no sera necesario un ETL)\n",
        "\n",
        "* **Genero:** def genero( Año: str ): Se ingresa un año y devuelve una lista con los 5 géneros más ofrecidos en el orden correspondiente.\n",
        "\n",
        "* **Juegos:** def juegos( Año: str ): Se ingresa un año y devuelve una lista con todos los juegos que fueron lanzados ese año.\n",
        "\n",
        "* **Especificaciones:** def specs( Año: str ): Se ingresa un año y devuelve una lista con los 5 specs que más se repiten en ese año en el orden correspondiente.\n",
        "\n",
        "* **Acceso Temprano**: def earlyacces( Año: str ): Cantidad de juegos lanzados en un año con early access.\n",
        "\n",
        "* **Sentimiento:** def sentiment( Año: str ): Según el año de lanzamiento, se devuelve una lista con la cantidad de registros que se encuentren categorizados con un análisis de sentimiento.\n",
        "\n",
        "* **Puntaje:** def metascore( Año: str ): Top 5 juegos según año con mayor metascore."
      ]
    },
    {
      "cell_type": "code",
      "execution_count": 12,
      "metadata": {
        "id": "UaXrhfEpOjaL"
      },
      "outputs": [],
      "source": [
        "#Importamos las librerias necesarias para el desarrollo de las consultas\n",
        "import numpy as np\n",
        "import pandas as pd\n",
        "import ast"
      ]
    },
    {
      "cell_type": "code",
      "execution_count": 13,
      "metadata": {
        "id": "CfYU9cgLPAgR"
      },
      "outputs": [
        {
          "data": {
            "text/html": [
              "<div>\n",
              "<style scoped>\n",
              "    .dataframe tbody tr th:only-of-type {\n",
              "        vertical-align: middle;\n",
              "    }\n",
              "\n",
              "    .dataframe tbody tr th {\n",
              "        vertical-align: top;\n",
              "    }\n",
              "\n",
              "    .dataframe thead th {\n",
              "        text-align: right;\n",
              "    }\n",
              "</style>\n",
              "<table border=\"1\" class=\"dataframe\">\n",
              "  <thead>\n",
              "    <tr style=\"text-align: right;\">\n",
              "      <th></th>\n",
              "      <th>publisher</th>\n",
              "      <th>genres</th>\n",
              "      <th>app_name</th>\n",
              "      <th>title</th>\n",
              "      <th>url</th>\n",
              "      <th>release_date</th>\n",
              "      <th>tags</th>\n",
              "      <th>discount_price</th>\n",
              "      <th>reviews_url</th>\n",
              "      <th>specs</th>\n",
              "      <th>price</th>\n",
              "      <th>early_access</th>\n",
              "      <th>id</th>\n",
              "      <th>developer</th>\n",
              "      <th>sentiment</th>\n",
              "      <th>metascore</th>\n",
              "    </tr>\n",
              "  </thead>\n",
              "  <tbody>\n",
              "    <tr>\n",
              "      <th>0</th>\n",
              "      <td>Kotoshiro</td>\n",
              "      <td>[Action, Casual, Indie, Simulation, Strategy]</td>\n",
              "      <td>Lost Summoner Kitty</td>\n",
              "      <td>Lost Summoner Kitty</td>\n",
              "      <td>http://store.steampowered.com/app/761140/Lost_...</td>\n",
              "      <td>2018-01-04</td>\n",
              "      <td>[Strategy, Action, Indie, Casual, Simulation]</td>\n",
              "      <td>4.49</td>\n",
              "      <td>http://steamcommunity.com/app/761140/reviews/?...</td>\n",
              "      <td>[Single-player]</td>\n",
              "      <td>4.99</td>\n",
              "      <td>False</td>\n",
              "      <td>761140</td>\n",
              "      <td>Kotoshiro</td>\n",
              "      <td>NaN</td>\n",
              "      <td>NaN</td>\n",
              "    </tr>\n",
              "    <tr>\n",
              "      <th>1</th>\n",
              "      <td>Making Fun, Inc.</td>\n",
              "      <td>[Free to Play, Indie, RPG, Strategy]</td>\n",
              "      <td>Ironbound</td>\n",
              "      <td>Ironbound</td>\n",
              "      <td>http://store.steampowered.com/app/643980/Ironb...</td>\n",
              "      <td>2018-01-04</td>\n",
              "      <td>[Free to Play, Strategy, Indie, RPG, Card Game...</td>\n",
              "      <td>NaN</td>\n",
              "      <td>http://steamcommunity.com/app/643980/reviews/?...</td>\n",
              "      <td>[Single-player, Multi-player, Online Multi-Pla...</td>\n",
              "      <td>Free To Play</td>\n",
              "      <td>False</td>\n",
              "      <td>643980</td>\n",
              "      <td>Secret Level SRL</td>\n",
              "      <td>Mostly Positive</td>\n",
              "      <td>NaN</td>\n",
              "    </tr>\n",
              "    <tr>\n",
              "      <th>2</th>\n",
              "      <td>Poolians.com</td>\n",
              "      <td>[Casual, Free to Play, Indie, Simulation, Sports]</td>\n",
              "      <td>Real Pool 3D - Poolians</td>\n",
              "      <td>Real Pool 3D - Poolians</td>\n",
              "      <td>http://store.steampowered.com/app/670290/Real_...</td>\n",
              "      <td>2017-07-24</td>\n",
              "      <td>[Free to Play, Simulation, Sports, Casual, Ind...</td>\n",
              "      <td>NaN</td>\n",
              "      <td>http://steamcommunity.com/app/670290/reviews/?...</td>\n",
              "      <td>[Single-player, Multi-player, Online Multi-Pla...</td>\n",
              "      <td>Free to Play</td>\n",
              "      <td>False</td>\n",
              "      <td>670290</td>\n",
              "      <td>Poolians.com</td>\n",
              "      <td>Mostly Positive</td>\n",
              "      <td>NaN</td>\n",
              "    </tr>\n",
              "    <tr>\n",
              "      <th>3</th>\n",
              "      <td>彼岸领域</td>\n",
              "      <td>[Action, Adventure, Casual]</td>\n",
              "      <td>弹炸人2222</td>\n",
              "      <td>弹炸人2222</td>\n",
              "      <td>http://store.steampowered.com/app/767400/2222/</td>\n",
              "      <td>2017-12-07</td>\n",
              "      <td>[Action, Adventure, Casual]</td>\n",
              "      <td>0.83</td>\n",
              "      <td>http://steamcommunity.com/app/767400/reviews/?...</td>\n",
              "      <td>[Single-player]</td>\n",
              "      <td>0.99</td>\n",
              "      <td>False</td>\n",
              "      <td>767400</td>\n",
              "      <td>彼岸领域</td>\n",
              "      <td>NaN</td>\n",
              "      <td>NaN</td>\n",
              "    </tr>\n",
              "    <tr>\n",
              "      <th>4</th>\n",
              "      <td>NaN</td>\n",
              "      <td>NaN</td>\n",
              "      <td>Log Challenge</td>\n",
              "      <td>NaN</td>\n",
              "      <td>http://store.steampowered.com/app/773570/Log_C...</td>\n",
              "      <td>NaN</td>\n",
              "      <td>[Action, Indie, Casual, Sports]</td>\n",
              "      <td>1.79</td>\n",
              "      <td>http://steamcommunity.com/app/773570/reviews/?...</td>\n",
              "      <td>[Single-player, Full controller support, HTC V...</td>\n",
              "      <td>2.99</td>\n",
              "      <td>False</td>\n",
              "      <td>773570</td>\n",
              "      <td>NaN</td>\n",
              "      <td>NaN</td>\n",
              "      <td>NaN</td>\n",
              "    </tr>\n",
              "  </tbody>\n",
              "</table>\n",
              "</div>"
            ],
            "text/plain": [
              "          publisher                                             genres   \n",
              "0         Kotoshiro      [Action, Casual, Indie, Simulation, Strategy]  \\\n",
              "1  Making Fun, Inc.               [Free to Play, Indie, RPG, Strategy]   \n",
              "2      Poolians.com  [Casual, Free to Play, Indie, Simulation, Sports]   \n",
              "3              彼岸领域                        [Action, Adventure, Casual]   \n",
              "4               NaN                                                NaN   \n",
              "\n",
              "                  app_name                    title   \n",
              "0      Lost Summoner Kitty      Lost Summoner Kitty  \\\n",
              "1                Ironbound                Ironbound   \n",
              "2  Real Pool 3D - Poolians  Real Pool 3D - Poolians   \n",
              "3                  弹炸人2222                  弹炸人2222   \n",
              "4            Log Challenge                      NaN   \n",
              "\n",
              "                                                 url release_date   \n",
              "0  http://store.steampowered.com/app/761140/Lost_...   2018-01-04  \\\n",
              "1  http://store.steampowered.com/app/643980/Ironb...   2018-01-04   \n",
              "2  http://store.steampowered.com/app/670290/Real_...   2017-07-24   \n",
              "3     http://store.steampowered.com/app/767400/2222/   2017-12-07   \n",
              "4  http://store.steampowered.com/app/773570/Log_C...          NaN   \n",
              "\n",
              "                                                tags  discount_price   \n",
              "0      [Strategy, Action, Indie, Casual, Simulation]            4.49  \\\n",
              "1  [Free to Play, Strategy, Indie, RPG, Card Game...             NaN   \n",
              "2  [Free to Play, Simulation, Sports, Casual, Ind...             NaN   \n",
              "3                        [Action, Adventure, Casual]            0.83   \n",
              "4                    [Action, Indie, Casual, Sports]            1.79   \n",
              "\n",
              "                                         reviews_url   \n",
              "0  http://steamcommunity.com/app/761140/reviews/?...  \\\n",
              "1  http://steamcommunity.com/app/643980/reviews/?...   \n",
              "2  http://steamcommunity.com/app/670290/reviews/?...   \n",
              "3  http://steamcommunity.com/app/767400/reviews/?...   \n",
              "4  http://steamcommunity.com/app/773570/reviews/?...   \n",
              "\n",
              "                                               specs         price   \n",
              "0                                    [Single-player]          4.99  \\\n",
              "1  [Single-player, Multi-player, Online Multi-Pla...  Free To Play   \n",
              "2  [Single-player, Multi-player, Online Multi-Pla...  Free to Play   \n",
              "3                                    [Single-player]          0.99   \n",
              "4  [Single-player, Full controller support, HTC V...          2.99   \n",
              "\n",
              "   early_access      id         developer        sentiment metascore  \n",
              "0         False  761140         Kotoshiro              NaN       NaN  \n",
              "1         False  643980  Secret Level SRL  Mostly Positive       NaN  \n",
              "2         False  670290      Poolians.com  Mostly Positive       NaN  \n",
              "3         False  767400              彼岸领域              NaN       NaN  \n",
              "4         False  773570               NaN              NaN       NaN  "
            ]
          },
          "execution_count": 13,
          "metadata": {},
          "output_type": "execute_result"
        }
      ],
      "source": [
        "# Inicializamos una lista vacía para almacenar los diccionarios\n",
        "rows = []\n",
        "\n",
        "# Abrimos el archivo \"steam_games.json\" en modo lectura\n",
        "with open(\"steam_games.json\") as f:\n",
        "    # Iteramos sobre cada línea del archivo\n",
        "    for line in f.readlines():\n",
        "        # Utilizamos ast.literal_eval para convertir la línea en un diccionario\n",
        "        rows.append(ast.literal_eval(line))\n",
        "\n",
        "# Creamos el DataFrame a partir de la lista de diccionarios\n",
        "df = pd.DataFrame(rows)\n",
        "\n",
        "# Mostramos los primeros 5 registros del DataFrame\n",
        "df.head(5)"
      ]
    },
    {
      "cell_type": "code",
      "execution_count": 15,
      "metadata": {
        "id": "v9wrs50ZQKC0"
      },
      "outputs": [],
      "source": [
        "# Filtramos por los que tienen un formato de fecha correcto y creamos una nueva columna con los años de release_date\n",
        "df_filtrado = df_filtrado[df_filtrado['release_date'].str.contains(r'\\d{4}-\\d{2}-\\d{2}', na=False)]\n",
        "df['anio'] = df['release_date'].str.extract(r'(\\d{4})')"
      ]
    },
    {
      "cell_type": "code",
      "execution_count": 16,
      "metadata": {
        "id": "mBJvkIsjRJQP"
      },
      "outputs": [],
      "source": [
        "# Convertimos las columnas año y metascore a entero, si hay un valor que no se puede transformar a entero se le asigna un valor Nulo\n",
        "df['metascore'] = pd.to_numeric(df['metascore'], errors='coerce')\n",
        "df['anio'] = pd.to_numeric(df['anio'], errors='coerce')"
      ]
    },
    {
      "cell_type": "markdown",
      "metadata": {
        "id": "tL-zkzIRR3Lq"
      },
      "source": [
        "* **Genero:** def genero( Año: str ): Se ingresa un año y devuelve una lista con los 5 géneros más ofrecidos en el orden correspondiente."
      ]
    },
    {
      "cell_type": "code",
      "execution_count": 17,
      "metadata": {
        "id": "DfGRetbKRwL5"
      },
      "outputs": [],
      "source": [
        "def genero(año: str):\n",
        "    # Filtrar el DataFrame por el año proporcionado\n",
        "    df_filtered = df[df['anio'] == int(año)]\n",
        "\n",
        "    # Unir todas las listas de géneros en una sola lista y eliminar valores nulos\n",
        "    all_genres = [genre for sublist in df_filtered['genres'].dropna() for genre in sublist]\n",
        "\n",
        "    # Contar la cantidad de veces que aparece cada género, incluyendo los nulos\n",
        "    genre_counts = pd.Series(all_genres).value_counts()\n",
        "\n",
        "    # Obtener los 5 géneros más lanzan a la venta\n",
        "    top_5_genres = genre_counts.index[:5].tolist()\n",
        "\n",
        "    return top_5_genres"
      ]
    },
    {
      "cell_type": "markdown",
      "metadata": {
        "id": "C1Ek3A76R_u0"
      },
      "source": [
        "* **Juegos:** def juegos( Año: str ): Se ingresa un año y devuelve una lista con todos los juegos que fueron lanzados ese año.\n"
      ]
    },
    {
      "cell_type": "code",
      "execution_count": 18,
      "metadata": {
        "id": "0dLOWAuNShmM"
      },
      "outputs": [],
      "source": [
        "def juegos(Año: str):\n",
        "\n",
        "    # Filtrar el DataFrame por el año proporcionado\n",
        "    df_filtered = df[df['anio'] == int(Año)]\n",
        "\n",
        "    # Obtener la lista de nombres de los juegos lanzados en el año\n",
        "    juegos_lanzados = df_filtered['app_name'].tolist()\n",
        "\n",
        "    return juegos_lanzados"
      ]
    },
    {
      "cell_type": "markdown",
      "metadata": {
        "id": "gUuYd1KYR_mf"
      },
      "source": [
        "* **Especificaciones:** def specs( Año: str ): Se ingresa un año y devuelve una lista con los 5 specs que más se repiten en ese año en el orden correspondiente."
      ]
    },
    {
      "cell_type": "code",
      "execution_count": 19,
      "metadata": {
        "id": "hov4-8VpSpmV"
      },
      "outputs": [],
      "source": [
        "def specs(Año: str):\n",
        "    # Filtrar el DataFrame por el año proporcionado\n",
        "    df_filtered = df[df['anio'] == int(Año)]\n",
        "\n",
        "    # Unir todas las listas de specs en una sola lista y eliminar valores nulos\n",
        "    all_specs = [specs for sublist in df_filtered['specs'].dropna() for specs in sublist]\n",
        "\n",
        "    # Contar la cantidad de veces que aparece cada specs, incluyendo los nulos\n",
        "    specs_counts = pd.Series(all_specs).value_counts()\n",
        "\n",
        "    # Obtener los 5 specs que mas lanzan a la venta\n",
        "    top_5_specs = specs_counts.index[:5].tolist()\n",
        "\n",
        "    return top_5_specs"
      ]
    },
    {
      "cell_type": "markdown",
      "metadata": {
        "id": "y1SHo821R_b0"
      },
      "source": [
        "* **Acceso Temprano**: def earlyacces( Año: str ): Cantidad de juegos lanzados en un año con early access."
      ]
    },
    {
      "cell_type": "code",
      "execution_count": 20,
      "metadata": {
        "id": "tdIJQNqkSsIK"
      },
      "outputs": [],
      "source": [
        "def earlyacces(Año: str):\n",
        "    # Filtrar el DataFrame por el año proporcionado y que tenga \"early access\"\n",
        "    df_filtered = df[(df['anio'] == int(Año)) & (df['early_access'] == True)]\n",
        "\n",
        "    # Contar la cantidad de juegos con \"early access\" lanzados en el año\n",
        "    cantidad_early_access = len(df_filtered)\n",
        "\n",
        "    return cantidad_early_access"
      ]
    },
    {
      "cell_type": "markdown",
      "metadata": {
        "id": "39EESfp2R_Mf"
      },
      "source": [
        "* **Sentimiento:** def sentiment( Año: str ): Según el año de lanzamiento, se devuelve una lista con la cantidad de registros que se encuentren categorizados con un análisis de sentimiento.\n"
      ]
    },
    {
      "cell_type": "code",
      "execution_count": 21,
      "metadata": {
        "id": "yHLrZIzDS4iN"
      },
      "outputs": [],
      "source": [
        "def sentiment(Año: str):\n",
        "    # Filtrar el DataFrame por el año proporcionado\n",
        "    df_filtered = df[df['anio'] == int(Año)]\n",
        "\n",
        "    # Contar la cantidad de registros con cada análisis de sentimiento para el año\n",
        "    sentiment_counts = df_filtered['sentiment'].value_counts().to_dict()\n",
        "\n",
        "    # Modificar el diccionario para quitar \"user reviews\"\n",
        "    modified_sentiment_counts = {}\n",
        "    for clave, valor in sentiment_counts.items():\n",
        "        if 'user reviews' not in clave:\n",
        "            modified_sentiment_counts[clave] = valor\n",
        "\n",
        "    return modified_sentiment_counts"
      ]
    },
    {
      "cell_type": "markdown",
      "metadata": {
        "id": "-jkK9PHtSRD7"
      },
      "source": [
        "* **Puntaje:** def metascore( Año: str ): Top 5 juegos según año con mayor metascore."
      ]
    },
    {
      "cell_type": "code",
      "execution_count": 22,
      "metadata": {
        "id": "rITwe1wlSaF0"
      },
      "outputs": [],
      "source": [
        "def metascore(Año: str):\n",
        "    # Filtrar el DataFrame por el año proporcionado y eliminar filas con valores nulos en 'metascore'\n",
        "    df_filtered = df[(df['anio'] == int(Año)) & ~df['metascore'].isnull()]\n",
        "\n",
        "    # Ordenar el DataFrame filtrado por Metascore de manera descendente\n",
        "    df_sorted = df_filtered.sort_values(by='metascore', ascending=False)\n",
        "\n",
        "    # Obtener los nombres de los 5 juegos con el mayor Metascore\n",
        "    top_5_juegos = df_sorted['app_name'].head(5).tolist()\n",
        "\n",
        "    return top_5_juegos\n"
      ]
    }
  ],
  "metadata": {
    "colab": {
      "provenance": []
    },
    "kernelspec": {
      "display_name": "Python 3",
      "name": "python3"
    },
    "language_info": {
      "codemirror_mode": {
        "name": "ipython",
        "version": 3
      },
      "file_extension": ".py",
      "mimetype": "text/x-python",
      "name": "python",
      "nbconvert_exporter": "python",
      "pygments_lexer": "ipython3",
      "version": "3.11.4"
    }
  },
  "nbformat": 4,
  "nbformat_minor": 0
}
