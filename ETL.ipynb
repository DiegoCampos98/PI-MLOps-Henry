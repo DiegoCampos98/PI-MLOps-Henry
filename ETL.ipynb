{
  "cells": [
    {
      "cell_type": "markdown",
      "metadata": {
        "id": "S-695pMXb-NB"
      },
      "source": [
        "# **Proceso de ETL**\n",
        "---\n",
        "\n",
        "\n",
        "En este notebook realizaremos la extracción, transformación y carga (ETL) de los conjuntos de datos proporcionados"
      ]
    },
    {
      "cell_type": "markdown",
      "metadata": {
        "id": "YNQVhIHryo15"
      },
      "source": [
        "## **Extraccion**"
      ]
    },
    {
      "cell_type": "code",
      "execution_count": 1,
      "metadata": {
        "id": "Uxbafbd_cLzm"
      },
      "outputs": [],
      "source": [
        "#Importamos las librerias necesarias para el desarrollo de el ETL\n",
        "import numpy as np\n",
        "import pandas as pd\n",
        "import ast"
      ]
    },
    {
      "cell_type": "code",
      "execution_count": 2,
      "metadata": {
        "id": "t0UBxtWxcRgW"
      },
      "outputs": [],
      "source": [
        "# Inicializamos una lista vacía para almacenar los diccionarios\n",
        "rows = []\n",
        "\n",
        "# Abrimos el archivo \"steam_games.json\" en modo lectura\n",
        "with open(\"steam_games.json\") as f:\n",
        "    # Iteramos sobre cada línea del archivo\n",
        "    for line in f.readlines():\n",
        "        # Utilizamos ast.literal_eval para convertir la línea en un diccionario\n",
        "        rows.append(ast.literal_eval(line))\n",
        "\n",
        "# Creamos el DataFrame a partir de la lista de diccionarios\n",
        "df = pd.DataFrame(rows)\n"
      ]
    },
    {
      "cell_type": "markdown",
      "metadata": {
        "id": "WsyWuHUfzKAw"
      },
      "source": [
        "## **Transformacion**\n"
      ]
    },
    {
      "cell_type": "markdown",
      "metadata": {
        "id": "OhB520pPzTUp"
      },
      "source": [
        "Observamos el df y su estructura para descartar las columnas que a simple vista no nos servirán"
      ]
    },
    {
      "cell_type": "code",
      "execution_count": 3,
      "metadata": {
        "id": "fogdJJDbzDEu"
      },
      "outputs": [
        {
          "data": {
            "text/html": [
              "<div>\n",
              "<style scoped>\n",
              "    .dataframe tbody tr th:only-of-type {\n",
              "        vertical-align: middle;\n",
              "    }\n",
              "\n",
              "    .dataframe tbody tr th {\n",
              "        vertical-align: top;\n",
              "    }\n",
              "\n",
              "    .dataframe thead th {\n",
              "        text-align: right;\n",
              "    }\n",
              "</style>\n",
              "<table border=\"1\" class=\"dataframe\">\n",
              "  <thead>\n",
              "    <tr style=\"text-align: right;\">\n",
              "      <th></th>\n",
              "      <th>publisher</th>\n",
              "      <th>genres</th>\n",
              "      <th>app_name</th>\n",
              "      <th>title</th>\n",
              "      <th>url</th>\n",
              "      <th>release_date</th>\n",
              "      <th>tags</th>\n",
              "      <th>discount_price</th>\n",
              "      <th>reviews_url</th>\n",
              "      <th>specs</th>\n",
              "      <th>price</th>\n",
              "      <th>early_access</th>\n",
              "      <th>id</th>\n",
              "      <th>developer</th>\n",
              "      <th>sentiment</th>\n",
              "      <th>metascore</th>\n",
              "    </tr>\n",
              "  </thead>\n",
              "  <tbody>\n",
              "    <tr>\n",
              "      <th>0</th>\n",
              "      <td>Kotoshiro</td>\n",
              "      <td>[Action, Casual, Indie, Simulation, Strategy]</td>\n",
              "      <td>Lost Summoner Kitty</td>\n",
              "      <td>Lost Summoner Kitty</td>\n",
              "      <td>http://store.steampowered.com/app/761140/Lost_...</td>\n",
              "      <td>2018-01-04</td>\n",
              "      <td>[Strategy, Action, Indie, Casual, Simulation]</td>\n",
              "      <td>4.49</td>\n",
              "      <td>http://steamcommunity.com/app/761140/reviews/?...</td>\n",
              "      <td>[Single-player]</td>\n",
              "      <td>4.99</td>\n",
              "      <td>False</td>\n",
              "      <td>761140</td>\n",
              "      <td>Kotoshiro</td>\n",
              "      <td>NaN</td>\n",
              "      <td>NaN</td>\n",
              "    </tr>\n",
              "    <tr>\n",
              "      <th>1</th>\n",
              "      <td>Making Fun, Inc.</td>\n",
              "      <td>[Free to Play, Indie, RPG, Strategy]</td>\n",
              "      <td>Ironbound</td>\n",
              "      <td>Ironbound</td>\n",
              "      <td>http://store.steampowered.com/app/643980/Ironb...</td>\n",
              "      <td>2018-01-04</td>\n",
              "      <td>[Free to Play, Strategy, Indie, RPG, Card Game...</td>\n",
              "      <td>NaN</td>\n",
              "      <td>http://steamcommunity.com/app/643980/reviews/?...</td>\n",
              "      <td>[Single-player, Multi-player, Online Multi-Pla...</td>\n",
              "      <td>Free To Play</td>\n",
              "      <td>False</td>\n",
              "      <td>643980</td>\n",
              "      <td>Secret Level SRL</td>\n",
              "      <td>Mostly Positive</td>\n",
              "      <td>NaN</td>\n",
              "    </tr>\n",
              "    <tr>\n",
              "      <th>2</th>\n",
              "      <td>Poolians.com</td>\n",
              "      <td>[Casual, Free to Play, Indie, Simulation, Sports]</td>\n",
              "      <td>Real Pool 3D - Poolians</td>\n",
              "      <td>Real Pool 3D - Poolians</td>\n",
              "      <td>http://store.steampowered.com/app/670290/Real_...</td>\n",
              "      <td>2017-07-24</td>\n",
              "      <td>[Free to Play, Simulation, Sports, Casual, Ind...</td>\n",
              "      <td>NaN</td>\n",
              "      <td>http://steamcommunity.com/app/670290/reviews/?...</td>\n",
              "      <td>[Single-player, Multi-player, Online Multi-Pla...</td>\n",
              "      <td>Free to Play</td>\n",
              "      <td>False</td>\n",
              "      <td>670290</td>\n",
              "      <td>Poolians.com</td>\n",
              "      <td>Mostly Positive</td>\n",
              "      <td>NaN</td>\n",
              "    </tr>\n",
              "    <tr>\n",
              "      <th>3</th>\n",
              "      <td>彼岸领域</td>\n",
              "      <td>[Action, Adventure, Casual]</td>\n",
              "      <td>弹炸人2222</td>\n",
              "      <td>弹炸人2222</td>\n",
              "      <td>http://store.steampowered.com/app/767400/2222/</td>\n",
              "      <td>2017-12-07</td>\n",
              "      <td>[Action, Adventure, Casual]</td>\n",
              "      <td>0.83</td>\n",
              "      <td>http://steamcommunity.com/app/767400/reviews/?...</td>\n",
              "      <td>[Single-player]</td>\n",
              "      <td>0.99</td>\n",
              "      <td>False</td>\n",
              "      <td>767400</td>\n",
              "      <td>彼岸领域</td>\n",
              "      <td>NaN</td>\n",
              "      <td>NaN</td>\n",
              "    </tr>\n",
              "    <tr>\n",
              "      <th>4</th>\n",
              "      <td>NaN</td>\n",
              "      <td>NaN</td>\n",
              "      <td>Log Challenge</td>\n",
              "      <td>NaN</td>\n",
              "      <td>http://store.steampowered.com/app/773570/Log_C...</td>\n",
              "      <td>NaN</td>\n",
              "      <td>[Action, Indie, Casual, Sports]</td>\n",
              "      <td>1.79</td>\n",
              "      <td>http://steamcommunity.com/app/773570/reviews/?...</td>\n",
              "      <td>[Single-player, Full controller support, HTC V...</td>\n",
              "      <td>2.99</td>\n",
              "      <td>False</td>\n",
              "      <td>773570</td>\n",
              "      <td>NaN</td>\n",
              "      <td>NaN</td>\n",
              "      <td>NaN</td>\n",
              "    </tr>\n",
              "  </tbody>\n",
              "</table>\n",
              "</div>"
            ],
            "text/plain": [
              "          publisher                                             genres   \n",
              "0         Kotoshiro      [Action, Casual, Indie, Simulation, Strategy]  \\\n",
              "1  Making Fun, Inc.               [Free to Play, Indie, RPG, Strategy]   \n",
              "2      Poolians.com  [Casual, Free to Play, Indie, Simulation, Sports]   \n",
              "3              彼岸领域                        [Action, Adventure, Casual]   \n",
              "4               NaN                                                NaN   \n",
              "\n",
              "                  app_name                    title   \n",
              "0      Lost Summoner Kitty      Lost Summoner Kitty  \\\n",
              "1                Ironbound                Ironbound   \n",
              "2  Real Pool 3D - Poolians  Real Pool 3D - Poolians   \n",
              "3                  弹炸人2222                  弹炸人2222   \n",
              "4            Log Challenge                      NaN   \n",
              "\n",
              "                                                 url release_date   \n",
              "0  http://store.steampowered.com/app/761140/Lost_...   2018-01-04  \\\n",
              "1  http://store.steampowered.com/app/643980/Ironb...   2018-01-04   \n",
              "2  http://store.steampowered.com/app/670290/Real_...   2017-07-24   \n",
              "3     http://store.steampowered.com/app/767400/2222/   2017-12-07   \n",
              "4  http://store.steampowered.com/app/773570/Log_C...          NaN   \n",
              "\n",
              "                                                tags  discount_price   \n",
              "0      [Strategy, Action, Indie, Casual, Simulation]            4.49  \\\n",
              "1  [Free to Play, Strategy, Indie, RPG, Card Game...             NaN   \n",
              "2  [Free to Play, Simulation, Sports, Casual, Ind...             NaN   \n",
              "3                        [Action, Adventure, Casual]            0.83   \n",
              "4                    [Action, Indie, Casual, Sports]            1.79   \n",
              "\n",
              "                                         reviews_url   \n",
              "0  http://steamcommunity.com/app/761140/reviews/?...  \\\n",
              "1  http://steamcommunity.com/app/643980/reviews/?...   \n",
              "2  http://steamcommunity.com/app/670290/reviews/?...   \n",
              "3  http://steamcommunity.com/app/767400/reviews/?...   \n",
              "4  http://steamcommunity.com/app/773570/reviews/?...   \n",
              "\n",
              "                                               specs         price   \n",
              "0                                    [Single-player]          4.99  \\\n",
              "1  [Single-player, Multi-player, Online Multi-Pla...  Free To Play   \n",
              "2  [Single-player, Multi-player, Online Multi-Pla...  Free to Play   \n",
              "3                                    [Single-player]          0.99   \n",
              "4  [Single-player, Full controller support, HTC V...          2.99   \n",
              "\n",
              "   early_access      id         developer        sentiment metascore  \n",
              "0         False  761140         Kotoshiro              NaN       NaN  \n",
              "1         False  643980  Secret Level SRL  Mostly Positive       NaN  \n",
              "2         False  670290      Poolians.com  Mostly Positive       NaN  \n",
              "3         False  767400              彼岸领域              NaN       NaN  \n",
              "4         False  773570               NaN              NaN       NaN  "
            ]
          },
          "execution_count": 3,
          "metadata": {},
          "output_type": "execute_result"
        }
      ],
      "source": [
        "# Mostramos los primeros 5 registros del DataFrame\n",
        "df.head(5)"
      ]
    },
    {
      "cell_type": "code",
      "execution_count": 4,
      "metadata": {
        "id": "YBqr4ZGbcXk4"
      },
      "outputs": [
        {
          "name": "stdout",
          "output_type": "stream",
          "text": [
            "<class 'pandas.core.frame.DataFrame'>\n",
            "RangeIndex: 32135 entries, 0 to 32134\n",
            "Data columns (total 16 columns):\n",
            " #   Column          Non-Null Count  Dtype  \n",
            "---  ------          --------------  -----  \n",
            " 0   publisher       24083 non-null  object \n",
            " 1   genres          28852 non-null  object \n",
            " 2   app_name        32133 non-null  object \n",
            " 3   title           30085 non-null  object \n",
            " 4   url             32135 non-null  object \n",
            " 5   release_date    30068 non-null  object \n",
            " 6   tags            31972 non-null  object \n",
            " 7   discount_price  225 non-null    float64\n",
            " 8   reviews_url     32133 non-null  object \n",
            " 9   specs           31465 non-null  object \n",
            " 10  price           30758 non-null  object \n",
            " 11  early_access    32135 non-null  bool   \n",
            " 12  id              32133 non-null  object \n",
            " 13  developer       28836 non-null  object \n",
            " 14  sentiment       24953 non-null  object \n",
            " 15  metascore       2677 non-null   object \n",
            "dtypes: bool(1), float64(1), object(14)\n",
            "memory usage: 3.7+ MB\n"
          ]
        }
      ],
      "source": [
        "df.info()"
      ]
    },
    {
      "cell_type": "code",
      "execution_count": 5,
      "metadata": {
        "id": "Y4D9RtoOcn5K"
      },
      "outputs": [],
      "source": [
        "df_filtrado = df[[\"genres\", \"release_date\" , \"tags\", \"specs\", \"price\", \"sentiment\", \"metascore\"]]"
      ]
    },
    {
      "cell_type": "markdown",
      "metadata": {
        "id": "tnlzB3nMz9oi"
      },
      "source": [
        "Dsecartamos todos los Nulos y datos que no tienen el formato correcto de Fecha\n"
      ]
    },
    {
      "cell_type": "code",
      "execution_count": 6,
      "metadata": {
        "id": "J-mDR_uNc18a"
      },
      "outputs": [],
      "source": [
        "#Todos los que no tengan el formato de fecha correcto de la columna release_date los descartamos\n",
        "df_filtrado = df_filtrado[df_filtrado['release_date'].str.contains(r'\\d{4}-\\d{2}-\\d{2}', na=False)]\n"
      ]
    },
    {
      "cell_type": "markdown",
      "metadata": {
        "id": "QTd6lBvS1eZf"
      },
      "source": [
        "Todos los juegos que tengan en sus generos Free to Play le signamos el precio de 0"
      ]
    },
    {
      "cell_type": "code",
      "execution_count": 7,
      "metadata": {
        "id": "vm-WVceVc68_"
      },
      "outputs": [],
      "source": [
        "#Funcion para buscar dentro de lista de generos de cada juegos y asignar 0 si es Free to Play\n",
        "def set_price_to_zero(row):\n",
        "    genres = row['genres']\n",
        "    price = row['price']\n",
        "    if isinstance(genres, list) and 'Free to Play' in genres:\n",
        "        return 0\n",
        "    return price\n",
        "\n",
        "# Utiliza el método apply para aplicar la función a cada fila del DataFrame\n",
        "df_filtrado['price'] = df_filtrado.apply(set_price_to_zero, axis=1)"
      ]
    },
    {
      "cell_type": "markdown",
      "metadata": {
        "id": "sbo2TqhF1pNS"
      },
      "source": [
        "Vemos que dentro de los valores unicos de price hay textos, por ende, le asignamos el valor de Nulo a todos ellos y los borramos"
      ]
    },
    {
      "cell_type": "code",
      "execution_count": 8,
      "metadata": {
        "id": "9BpI1KLqc8EK"
      },
      "outputs": [
        {
          "data": {
            "text/plain": [
              "array([4.99, 0, 0.99, 3.99, nan, 10.99, 2.99, 1.59, 1.99, 9.99, 8.99,\n",
              "       6.99, 7.99, 39.99, 'Free', 19.99, 7.49, 14.99, 12.99, 5.99, 2.49,\n",
              "       15.99, 1.25, 29.99, 'Free to Play', 24.99, 17.99, 61.99, 3.49,\n",
              "       18.99, 11.99, 13.99, 'Free Demo', 34.99, 1.49, 32.99, 99.99, 14.95,\n",
              "       59.99, 69.99, 5.0, 49.99, 13.98, 29.96, 119.99, 79.99, 109.99,\n",
              "       16.99, 771.71, 'Install Now', 21.99,\n",
              "       'Play WARMACHINE: Tactics Demo', 0.98, 'Free To Play', 4.29, 64.99,\n",
              "       54.99, 74.99, 'Install Theme', 0.89, 'Third-party', 0.5,\n",
              "       'Play Now', 89.99, 299.99, 44.99, 3.0, 15.0, 5.49, 23.99, 49.0,\n",
              "       20.99, 10.93, 1.39, 'Free HITMAN™ Holiday Pack', 36.99, 4.49, 2.0,\n",
              "       4.0, 149.99, 234.99, 1.95, 1.5, 199.0, 189.0, 6.66, 27.99, 10.49,\n",
              "       129.99, 179.0, 26.99, 399.99, 31.99, 399.0, 20.0, 40.0, 3.33,\n",
              "       22.99, 320.0, 995.0, 27.49, 6.0, 1.29, 499.99, 199.99, 16.06, 4.68,\n",
              "       202.76, 1.0, 2.3, 0.95, 172.24, 2.97, 10.96, 19.95, 10.0, 30.0,\n",
              "       2.66, 6.48, 19.29, 11.15, 'Play the Demo', 99.0, 599.0, 0.49, 9.98,\n",
              "       9.95, 7.0, 'Starting at $499.00', 'Starting at $449.00', 12.89,\n",
              "       6.49, 1.87, 42.99, 41.99, 289.99, 'Free to Try', 5.65, 12.0,\n",
              "       'Free Mod', 59.95, 13.37, 124.99, 'Free Movie', 'Free to Use'],\n",
              "      dtype=object)"
            ]
          },
          "execution_count": 8,
          "metadata": {},
          "output_type": "execute_result"
        }
      ],
      "source": [
        "# Vemos los valores unicos de price\n",
        "df_filtrado[\"price\"].unique()"
      ]
    },
    {
      "cell_type": "code",
      "execution_count": 9,
      "metadata": {
        "id": "x_OwK_mOtOdj"
      },
      "outputs": [],
      "source": [
        "# Todos los valores que sean numeros los transformamos a valores enteros y los que no en Nulos\n",
        "df_filtrado['price'] = pd.to_numeric(df_filtrado['price'], errors='coerce')\n",
        "\n",
        "# Elimina las filas con valores NaN en la columna \"price\"\n",
        "df_filtrado = df_filtrado.dropna(subset=['price'])"
      ]
    },
    {
      "cell_type": "markdown",
      "metadata": {
        "id": "6weD75wk2VFh"
      },
      "source": [
        "Dentro de los Valores únicos de la columna sentiment hay muchos que nos dice la cantidad de usuarios que dio su opinión, de este datos no se puede sacar ninguna conclusión con respecto al sentimiento .Ya que no hay manera de saber si la opiniones son malas o buenas, por ende, las descartamos."
      ]
    },
    {
      "cell_type": "code",
      "execution_count": 10,
      "metadata": {
        "id": "Xw_-2jwytZDa"
      },
      "outputs": [
        {
          "data": {
            "text/plain": [
              "array([nan, 'Mostly Positive', 'Mixed', '1 user reviews',\n",
              "       '3 user reviews', '8 user reviews', 'Very Positive',\n",
              "       'Overwhelmingly Positive', '6 user reviews', '5 user reviews',\n",
              "       '2 user reviews', 'Very Negative', 'Positive', 'Mostly Negative',\n",
              "       '9 user reviews', 'Negative', '4 user reviews', '7 user reviews',\n",
              "       'Overwhelmingly Negative'], dtype=object)"
            ]
          },
          "execution_count": 10,
          "metadata": {},
          "output_type": "execute_result"
        }
      ],
      "source": [
        "# Valores unicos de sentiment\n",
        "df['sentiment'].unique()\n"
      ]
    },
    {
      "cell_type": "code",
      "execution_count": 11,
      "metadata": {
        "id": "Bxq55ut1ti3b"
      },
      "outputs": [],
      "source": [
        "# Descartamos las filas que contienen la cadena \"user reviews\" en la columna \"ratings\"\n",
        "df_filtrado = df_filtrado[~df_filtrado['sentiment'].str.contains('user reviews', na=True, regex=False)]"
      ]
    },
    {
      "cell_type": "markdown",
      "metadata": {
        "id": "djEDTen16yaY"
      },
      "source": [
        "Hay valores NA en metascore que pandas no los reconoce como Nulo, por ende los reemplazamos por None y descartamos todos los valores nulos"
      ]
    },
    {
      "cell_type": "code",
      "execution_count": 12,
      "metadata": {
        "id": "OQNDx64t6p9d"
      },
      "outputs": [
        {
          "data": {
            "text/plain": [
              "array([nan, 96, 84, 80, 76, 70, 'NA', 69, 81, 75, 72, 66, 67, 77, 91, 89,\n",
              "       83, 61, 88, 65, 94, 57, 86, 87, 92, 79, 82, 58, 74, 85, 90, 68, 71,\n",
              "       60, 73, 59, 64, 54, 53, 78, 51, 44, 63, 38, 56, 49, 52, 62, 93, 48,\n",
              "       34, 95, 43, 55, 24, 46, 41, 20, 39, 45, 35, 47, 40, 36, 50, 32, 37,\n",
              "       33, 42, 27, 29, 30], dtype=object)"
            ]
          },
          "execution_count": 12,
          "metadata": {},
          "output_type": "execute_result"
        }
      ],
      "source": [
        "# Valores unicos de sentiment\n",
        "df['metascore'].unique()"
      ]
    },
    {
      "cell_type": "code",
      "execution_count": 13,
      "metadata": {
        "id": "5PHO2YVO6pse"
      },
      "outputs": [],
      "source": [
        "df_filtrado['metascore'] = df_filtrado['metascore'].replace('NA', None)\n",
        "df_filtrado.dropna(subset=['metascore'], inplace=True)"
      ]
    },
    {
      "cell_type": "markdown",
      "metadata": {},
      "source": [
        "Descartamos los valores nulos que quedan en generos"
      ]
    },
    {
      "cell_type": "code",
      "execution_count": 14,
      "metadata": {
        "id": "BBS4XTiEAThi"
      },
      "outputs": [
        {
          "name": "stdout",
          "output_type": "stream",
          "text": [
            "<class 'pandas.core.frame.DataFrame'>\n",
            "Index: 2425 entries, 28 to 32117\n",
            "Data columns (total 7 columns):\n",
            " #   Column        Non-Null Count  Dtype  \n",
            "---  ------        --------------  -----  \n",
            " 0   genres        2419 non-null   object \n",
            " 1   release_date  2425 non-null   object \n",
            " 2   tags          2424 non-null   object \n",
            " 3   specs         2422 non-null   object \n",
            " 4   price         2425 non-null   float64\n",
            " 5   sentiment     2425 non-null   object \n",
            " 6   metascore     2425 non-null   object \n",
            "dtypes: float64(1), object(6)\n",
            "memory usage: 151.6+ KB\n"
          ]
        }
      ],
      "source": [
        "df_filtrado.info()"
      ]
    },
    {
      "cell_type": "code",
      "execution_count": 15,
      "metadata": {},
      "outputs": [],
      "source": [
        "df_filtrado.dropna(subset=['genres'], inplace=True)\n",
        "df_filtrado.dropna(subset=['specs'], inplace=True)"
      ]
    },
    {
      "cell_type": "markdown",
      "metadata": {},
      "source": [
        "Insertamos el df ya transformado en un archivo CSV listo para el EDA"
      ]
    },
    {
      "cell_type": "code",
      "execution_count": 16,
      "metadata": {},
      "outputs": [],
      "source": [
        "df_filtrado.to_csv('steam_games_ETL.csv', index=False)"
      ]
    }
  ],
  "metadata": {
    "colab": {
      "provenance": []
    },
    "kernelspec": {
      "display_name": "Python 3",
      "name": "python3"
    },
    "language_info": {
      "codemirror_mode": {
        "name": "ipython",
        "version": 3
      },
      "file_extension": ".py",
      "mimetype": "text/x-python",
      "name": "python",
      "nbconvert_exporter": "python",
      "pygments_lexer": "ipython3",
      "version": "3.11.4"
    }
  },
  "nbformat": 4,
  "nbformat_minor": 0
}
